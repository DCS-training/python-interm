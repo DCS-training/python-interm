{
 "cells": [
  {
   "cell_type": "markdown",
   "metadata": {},
   "source": [
    "# Introduction to Analyzing XML data with ElementTree\n",
    "XML data is a structured data format that we can parse using Python's ElementTree API.\n",
    "\n",
    "**Source:** This Notebook uses data and code from the DataCamp tutorial [Python XML with ElementTree](https://www.datacamp.com/community/tutorials/python-xml-elementtree#intro).\n",
    "\n",
    "### Demo 1"
   ]
  },
  {
   "cell_type": "code",
   "execution_count": 2,
   "metadata": {},
   "outputs": [],
   "source": [
    "# Import ElementTree and give it an alias (ET)\n",
    "# so it can be quickly and concisely referred to\n",
    "import xml.etree.ElementTree as ET\n",
    "import pandas as pd\n",
    "import re"
   ]
  },
  {
   "cell_type": "code",
   "execution_count": 3,
   "metadata": {},
   "outputs": [],
   "source": [
    "tree = ET.parse(\"xmlpractice.xml\")"
   ]
  },
  {
   "cell_type": "markdown",
   "metadata": {},
   "source": [
    "Once you've parsed, or loaded, an xml file, the first step is to locate the top-most node in the tree, called the **root** (remember XML is a hierarchical data format):"
   ]
  },
  {
   "cell_type": "code",
   "execution_count": 4,
   "metadata": {},
   "outputs": [],
   "source": [
    "root = tree.getroot()"
   ]
  },
  {
   "cell_type": "markdown",
   "metadata": {},
   "source": [
    "For learning purposes we've parsed a pretty small file, so let's print it out to see what it looks like:"
   ]
  },
  {
   "cell_type": "code",
   "execution_count": 5,
   "metadata": {},
   "outputs": [
    {
     "name": "stdout",
     "output_type": "stream",
     "text": [
      "<?xml version='1.0' encoding='utf8'?>\n",
      "<collection>\n",
      "    <genre category=\"Action\">\n",
      "        <decade years=\"1980s\">\n",
      "            <movie favorite=\"True\" title=\"Indiana Jones: The raiders of the lost Ark\">\n",
      "                <format multiple=\"No\">DVD</format>\n",
      "                <year>1981</year>\n",
      "                <rating>PG</rating>\n",
      "                <description>\n",
      "                'Archaeologist and adventurer Indiana Jones\n",
      "                is hired by the U.S. government to find the Ark of the\n",
      "                Covenant before the Nazis.'\n",
      "                </description>\n",
      "            </movie>\n",
      "               <movie favorite=\"True\" title=\"THE KARATE KID\">\n",
      "               <format multiple=\"Yes\">DVD,Online</format>\n",
      "               <year>1984</year>\n",
      "               <rating>PG</rating>\n",
      "               <description>None provided.</description>\n",
      "            </movie>\n",
      "            <movie favorite=\"False\" title=\"Back 2 the Future\">\n",
      "               <format multiple=\"False\">Blu-ray</format>\n",
      "               <year>1985</year>\n",
      "               <rating>PG</rating>\n",
      "               <description>Marty McFly</description>\n",
      "            </movie>\n",
      "        </decade>\n",
      "        <decade years=\"1990s\">\n",
      "            <movie favorite=\"False\" title=\"X-Men\">\n",
      "               <format multiple=\"Yes\">dvd, digital</format>\n",
      "               <year>2000</year>\n",
      "               <rating>PG-13</rating>\n",
      "               <description>Two mutants come to a private academy for their kind whose resident superhero team must\n",
      "               oppose a terrorist organization with similar powers.</description>\n",
      "            </movie>\n",
      "            <movie favorite=\"True\" title=\"Batman Returns\">\n",
      "               <format multiple=\"No\">VHS</format>\n",
      "               <year>1992</year>\n",
      "               <rating>PG13</rating>\n",
      "               <description>NA.</description>\n",
      "            </movie>\n",
      "               <movie favorite=\"False\" title=\"Reservoir Dogs\">\n",
      "               <format multiple=\"No\">Online</format>\n",
      "               <year>1992</year>\n",
      "               <rating>R</rating>\n",
      "               <description>WhAtEvER I Want!!!?!</description>\n",
      "            </movie>\n",
      "        </decade>\n",
      "    </genre>\n",
      "\n",
      "    <genre category=\"Thriller\">\n",
      "        <decade years=\"1970s\">\n",
      "            <movie favorite=\"False\" title=\"ALIEN\">\n",
      "                <format multiple=\"Yes\">DVD</format>\n",
      "                <year>1979</year>\n",
      "                <rating>R</rating>\n",
      "                <description>\"\"\"\"\"\"\"\"\"</description>\n",
      "            </movie>\n",
      "        </decade>\n",
      "        <decade years=\"1980s\">\n",
      "            <movie favorite=\"True\" title=\"Ferris Bueller's Day Off\">\n",
      "                <format multiple=\"No\">DVD</format>\n",
      "                <year>1986</year>\n",
      "                <rating>PG13</rating>\n",
      "                <description>Funny movie about a funny guy</description>\n",
      "            </movie>\n",
      "            <movie favorite=\"FALSE\" title=\"American Psycho\">\n",
      "                <format multiple=\"No\">blue-ray</format>\n",
      "                <year>2000</year>\n",
      "                <rating>Unrated</rating>\n",
      "                <description>psychopathic Bateman</description>\n",
      "            </movie>\n",
      "        </decade>\n",
      "    </genre>\n",
      "</collection>\n"
     ]
    }
   ],
   "source": [
    "print(ET.tostring(root, encoding='utf8').decode('utf8'))    \n",
    "# For information about encodings, checkout W3's \"Character encodings for\n",
    "# beginners\" at https://www.w3.org/International/questions/qa-what-is-encoding"
   ]
  },
  {
   "cell_type": "markdown",
   "metadata": {},
   "source": [
    "Ta da!\n",
    "\n",
    "### Demo 2\n",
    "Say we want to exclude the `<`, `>`, `=`, and `\\` symbols that characterize XML data to make the data more human-readable.  We can use **for loops** to iterate through the data, starting from the root or any other child node:"
   ]
  },
  {
   "cell_type": "code",
   "execution_count": 25,
   "metadata": {},
   "outputs": [
    {
     "name": "stdout",
     "output_type": "stream",
     "text": [
      "Tag: genre | Attribute: {'category': 'Action'} | Text: \n",
      "        \n",
      "Tag: genre | Attribute: {'category': 'Thriller'} | Text: \n",
      "        \n"
     ]
    }
   ],
   "source": [
    "for child in root:\n",
    "    print(\"Tag:\",child.tag, \"| Attribute:\", child.attrib, \"| Text:\", child.text)\n",
    "    if "
   ]
  },
  {
   "cell_type": "markdown",
   "metadata": {},
   "source": [
    "Above we see the first generation of children from the root node.  What if we want to see *all* of the nodes (children of children of children, etc.)?  We can use a for loop with the iterator method `.iter()`:"
   ]
  },
  {
   "cell_type": "code",
   "execution_count": 26,
   "metadata": {},
   "outputs": [
    {
     "name": "stdout",
     "output_type": "stream",
     "text": [
      "Tag: collection | Attribute: {} | Text: \n",
      "    \n",
      "Tag: genre | Attribute: {'category': 'Action'} | Text: \n",
      "        \n",
      "Tag: decade | Attribute: {'years': '1980s'} | Text: \n",
      "            \n",
      "Tag: movie | Attribute: {'favorite': 'True', 'title': 'Indiana Jones: The raiders of the lost Ark'} | Text: \n",
      "                \n",
      "Tag: format | Attribute: {'multiple': 'No'} | Text: DVD\n",
      "Tag: year | Attribute: {} | Text: 1981\n",
      "Tag: rating | Attribute: {} | Text: PG\n",
      "Tag: description | Attribute: {} | Text: \n",
      "                'Archaeologist and adventurer Indiana Jones\n",
      "                is hired by the U.S. government to find the Ark of the\n",
      "                Covenant before the Nazis.'\n",
      "                \n",
      "Tag: movie | Attribute: {'favorite': 'True', 'title': 'THE KARATE KID'} | Text: \n",
      "               \n",
      "Tag: format | Attribute: {'multiple': 'Yes'} | Text: DVD,Online\n",
      "Tag: year | Attribute: {} | Text: 1984\n",
      "Tag: rating | Attribute: {} | Text: PG\n",
      "Tag: description | Attribute: {} | Text: None provided.\n",
      "Tag: movie | Attribute: {'favorite': 'False', 'title': 'Back 2 the Future'} | Text: \n",
      "               \n",
      "Tag: format | Attribute: {'multiple': 'False'} | Text: Blu-ray\n",
      "Tag: year | Attribute: {} | Text: 1985\n",
      "Tag: rating | Attribute: {} | Text: PG\n",
      "Tag: description | Attribute: {} | Text: Marty McFly\n",
      "Tag: decade | Attribute: {'years': '1990s'} | Text: \n",
      "            \n",
      "Tag: movie | Attribute: {'favorite': 'False', 'title': 'X-Men'} | Text: \n",
      "               \n",
      "Tag: format | Attribute: {'multiple': 'Yes'} | Text: dvd, digital\n",
      "Tag: year | Attribute: {} | Text: 2000\n",
      "Tag: rating | Attribute: {} | Text: PG-13\n",
      "Tag: description | Attribute: {} | Text: Two mutants come to a private academy for their kind whose resident superhero team must\n",
      "               oppose a terrorist organization with similar powers.\n",
      "Tag: movie | Attribute: {'favorite': 'True', 'title': 'Batman Returns'} | Text: \n",
      "               \n",
      "Tag: format | Attribute: {'multiple': 'No'} | Text: VHS\n",
      "Tag: year | Attribute: {} | Text: 1992\n",
      "Tag: rating | Attribute: {} | Text: PG13\n",
      "Tag: description | Attribute: {} | Text: NA.\n",
      "Tag: movie | Attribute: {'favorite': 'False', 'title': 'Reservoir Dogs'} | Text: \n",
      "               \n",
      "Tag: format | Attribute: {'multiple': 'No'} | Text: Online\n",
      "Tag: year | Attribute: {} | Text: 1992\n",
      "Tag: rating | Attribute: {} | Text: R\n",
      "Tag: description | Attribute: {} | Text: WhAtEvER I Want!!!?!\n",
      "Tag: genre | Attribute: {'category': 'Thriller'} | Text: \n",
      "        \n",
      "Tag: decade | Attribute: {'years': '1970s'} | Text: \n",
      "            \n",
      "Tag: movie | Attribute: {'favorite': 'False', 'title': 'ALIEN'} | Text: \n",
      "                \n",
      "Tag: format | Attribute: {'multiple': 'Yes'} | Text: DVD\n",
      "Tag: year | Attribute: {} | Text: 1979\n",
      "Tag: rating | Attribute: {} | Text: R\n",
      "Tag: description | Attribute: {} | Text: \"\"\"\"\"\"\"\"\"\n",
      "Tag: decade | Attribute: {'years': '1980s'} | Text: \n",
      "            \n",
      "Tag: movie | Attribute: {'favorite': 'True', 'title': \"Ferris Bueller's Day Off\"} | Text: \n",
      "                \n",
      "Tag: format | Attribute: {'multiple': 'No'} | Text: DVD\n",
      "Tag: year | Attribute: {} | Text: 1986\n",
      "Tag: rating | Attribute: {} | Text: PG13\n",
      "Tag: description | Attribute: {} | Text: Funny movie about a funny guy\n",
      "Tag: movie | Attribute: {'favorite': 'FALSE', 'title': 'American Psycho'} | Text: \n",
      "                \n",
      "Tag: format | Attribute: {'multiple': 'No'} | Text: blue-ray\n",
      "Tag: year | Attribute: {} | Text: 2000\n",
      "Tag: rating | Attribute: {} | Text: Unrated\n",
      "Tag: description | Attribute: {} | Text: psychopathic Bateman\n"
     ]
    }
   ],
   "source": [
    "for child in root.iter():\n",
    "    print(\"Tag:\",child.tag, \"| Attribute:\", child.attrib, \"| Text:\", child.text)"
   ]
  },
  {
   "cell_type": "markdown",
   "metadata": {},
   "source": [
    "Great!\n",
    "\n",
    "If we only want a subset of the data, for example the title of the movie and the year it was released, we can use **if statements** in our for loop:"
   ]
  },
  {
   "cell_type": "code",
   "execution_count": 31,
   "metadata": {
    "scrolled": true
   },
   "outputs": [
    {
     "name": "stdout",
     "output_type": "stream",
     "text": [
      "Movie Titles:\n",
      " ['Indiana Jones: The raiders of the lost Ark', 'THE KARATE KID', 'Back 2 the Future', 'X-Men', 'Batman Returns', 'Reservoir Dogs', 'ALIEN', \"Ferris Bueller's Day Off\", 'American Psycho']\n",
      "Release Years:\n",
      " ['1981', '1984', '1985', '2000', '1992', '1992', '1979', '1986', '2000']\n"
     ]
    }
   ],
   "source": [
    "movie_titles = []\n",
    "years = []\n",
    "for child in root.iter():\n",
    "    if child.tag == \"movie\":\n",
    "        movie_titles += [child.attrib['title']]\n",
    "    if child.tag == \"year\":\n",
    "        years += [child.text]\n",
    "\n",
    "print(\"Movie Titles:\\n\", movie_titles)\n",
    "print(\"Release Years:\\n\", years)\n",
    "\n",
    "assert len(movie_titles) == len(years)  # There should be one release year for each movie"
   ]
  },
  {
   "cell_type": "markdown",
   "metadata": {},
   "source": [
    "Or, we can specify the tag we're looking for inside the parentheses of the `.iter()` method:"
   ]
  },
  {
   "cell_type": "code",
   "execution_count": 42,
   "metadata": {},
   "outputs": [
    {
     "name": "stdout",
     "output_type": "stream",
     "text": [
      "Movie Titles:\n",
      " ['Indiana Jones: The raiders of the lost Ark', 'THE KARATE KID', 'Back 2 the Future', 'X-Men', 'Batman Returns', 'Reservoir Dogs', 'ALIEN', \"Ferris Bueller's Day Off\", 'American Psycho']\n",
      "Release Years:\n",
      " ['1981', '1984', '1985', '2000', '1992', '1992', '1979', '1986', '2000']\n"
     ]
    }
   ],
   "source": [
    "titles = []\n",
    "for movie in root.iter('movie'):\n",
    "    titles += [movie.attrib['title']]\n",
    "\n",
    "release_years = []\n",
    "for release_year in root.iter('year'):\n",
    "    release_years += [release_year.text]\n",
    "    \n",
    "print(\"Movie Titles:\\n\", titles)\n",
    "print(\"Release Years:\\n\", release_years)"
   ]
  },
  {
   "cell_type": "markdown",
   "metadata": {},
   "source": [
    "We can also use the `.iter()` method to get a list of all the tag names in our data:"
   ]
  },
  {
   "cell_type": "code",
   "execution_count": 39,
   "metadata": {},
   "outputs": [
    {
     "name": "stdout",
     "output_type": "stream",
     "text": [
      "{'rating', 'format', 'collection', 'description', 'movie', 'genre', 'year', 'decade'}\n"
     ]
    }
   ],
   "source": [
    "tags = [elem.tag for elem in root.iter()]\n",
    "print(set(tags))   # sets are similar to lists in Python except they have no duplicates"
   ]
  },
  {
   "cell_type": "markdown",
   "metadata": {},
   "source": [
    "Another useful method is `.findall()`, which takes both a single tag name or a *path* as a parameter.  The method will search the data starting from the node input as a parameter."
   ]
  },
  {
   "cell_type": "code",
   "execution_count": 45,
   "metadata": {},
   "outputs": [
    {
     "name": "stdout",
     "output_type": "stream",
     "text": [
      "{'category': 'Action'}\n",
      "{'category': 'Thriller'}\n"
     ]
    }
   ],
   "source": [
    "for g in root.findall(\"genre\"):\n",
    "    print(g.attrib)"
   ]
  },
  {
   "cell_type": "code",
   "execution_count": 46,
   "metadata": {},
   "outputs": [
    {
     "name": "stdout",
     "output_type": "stream",
     "text": [
      "{'favorite': 'True', 'title': 'Batman Returns'}\n",
      "{'favorite': 'False', 'title': 'Reservoir Dogs'}\n"
     ]
    }
   ],
   "source": [
    "for movie in root.findall(\"./genre/decade/movie/[year='1992']\"):\n",
    "    print(movie.attrib)"
   ]
  },
  {
   "cell_type": "code",
   "execution_count": 48,
   "metadata": {},
   "outputs": [
    {
     "name": "stdout",
     "output_type": "stream",
     "text": [
      "[<Element 'genre' at 0x7f5c7b1798f0>]\n",
      "<class 'xml.etree.ElementTree.Element'>\n"
     ]
    }
   ],
   "source": [
    "genre_action = [elem for elem in root.findall('genre') if elem.attrib['category'] == 'Action']\n",
    "print(genre_action)\n",
    "print(type(genre_action[0]))"
   ]
  },
  {
   "cell_type": "code",
   "execution_count": null,
   "metadata": {},
   "outputs": [],
   "source": []
  }
 ],
 "metadata": {
  "kernelspec": {
   "display_name": "Python 3",
   "language": "python",
   "name": "python3"
  },
  "language_info": {
   "codemirror_mode": {
    "name": "ipython",
    "version": 3
   },
   "file_extension": ".py",
   "mimetype": "text/x-python",
   "name": "python",
   "nbconvert_exporter": "python",
   "pygments_lexer": "ipython3",
   "version": "3.7.6"
  }
 },
 "nbformat": 4,
 "nbformat_minor": 4
}
