{
 "cells": [
  {
   "cell_type": "markdown",
   "metadata": {},
   "source": [
    "# Working with XML Data using Python's ElementTree API\n",
    "Course Meeting 4 (the last one!!!)\n",
    "\n",
    "**Note:** This Notebook is based on a Python Module of the Week tutorial on [Creating XML Documents](https://pymotw.com/2/xml/etree/ElementTree/create.html)."
   ]
  },
  {
   "cell_type": "code",
   "execution_count": 1,
   "metadata": {},
   "outputs": [],
   "source": [
    "import xml.etree.ElementTree as ET\n",
    "from xml.dom import minidom\n",
    "import pandas as pd\n",
    "import csv\n",
    "import re"
   ]
  },
  {
   "cell_type": "markdown",
   "metadata": {},
   "source": [
    "### 1. Build a tree of XML data node by node"
   ]
  },
  {
   "cell_type": "code",
   "execution_count": 2,
   "metadata": {},
   "outputs": [
    {
     "name": "stdout",
     "output_type": "stream",
     "text": [
      "<Element 'root' at 0x7f7a395fefb0>\n"
     ]
    }
   ],
   "source": [
    "root = ET.Element('root')\n",
    "print(root)"
   ]
  },
  {
   "cell_type": "code",
   "execution_count": 3,
   "metadata": {},
   "outputs": [],
   "source": [
    "comment = ET.Comment('Example created for CDCS Python Course 1')\n",
    "root.append(comment)"
   ]
  },
  {
   "cell_type": "code",
   "execution_count": 4,
   "metadata": {},
   "outputs": [
    {
     "name": "stdout",
     "output_type": "stream",
     "text": [
      "<Element 'child' at 0x7f7a3960a170>\n",
      "Analyzing Structured Data\n"
     ]
    }
   ],
   "source": [
    "child = ET.SubElement(root, 'child')\n",
    "child.text = \"Analyzing Structured Data\"\n",
    "print(child)\n",
    "print(child.text)"
   ]
  },
  {
   "cell_type": "code",
   "execution_count": 5,
   "metadata": {},
   "outputs": [
    {
     "name": "stdout",
     "output_type": "stream",
     "text": [
      "<Element 'grandchild' at 0x7f7a3960aa70>\n",
      "Pandas\n"
     ]
    }
   ],
   "source": [
    "grandchild = ET.SubElement(child, 'grandchild', {'week' : '1'})\n",
    "grandchild.text = \"Pandas\"\n",
    "print(grandchild)\n",
    "print(grandchild.text)"
   ]
  },
  {
   "cell_type": "code",
   "execution_count": 6,
   "metadata": {},
   "outputs": [
    {
     "name": "stdout",
     "output_type": "stream",
     "text": [
      "<Element 'grandchild' at 0x7f7a3960ae90>\n",
      "ElementTree\n"
     ]
    }
   ],
   "source": [
    "grandchild1 = ET.SubElement(child, 'grandchild', {'week' : '2'})\n",
    "grandchild1.text = \"ElementTree\"\n",
    "print(grandchild1)\n",
    "print(grandchild1.text)"
   ]
  },
  {
   "cell_type": "code",
   "execution_count": 7,
   "metadata": {},
   "outputs": [],
   "source": [
    "greatgrandchild = ET.SubElement(grandchild, 'greatgrandchild')\n",
    "greatgrandchild.text = \"CSV\"\n",
    "greatgrandchild1 = ET.SubElement(grandchild1, 'greatgrandchild')\n",
    "greatgrandchild1.text = \"XML\""
   ]
  },
  {
   "cell_type": "code",
   "execution_count": 8,
   "metadata": {
    "scrolled": false
   },
   "outputs": [
    {
     "name": "stdout",
     "output_type": "stream",
     "text": [
      "b'<root><!--Example created for CDCS Python Course 1--><child>Analyzing Structured Data<grandchild week=\"1\">Pandas<greatgrandchild>CSV</greatgrandchild></grandchild><grandchild week=\"2\">ElementTree<greatgrandchild>XML</greatgrandchild></grandchild></child></root>'\n"
     ]
    }
   ],
   "source": [
    "print(ET.tostring(root))"
   ]
  },
  {
   "cell_type": "markdown",
   "metadata": {},
   "source": [
    "Let's try to print our XML in an easier-to-read way:"
   ]
  },
  {
   "cell_type": "code",
   "execution_count": 17,
   "metadata": {},
   "outputs": [
    {
     "name": "stdout",
     "output_type": "stream",
     "text": [
      "<?xml version='1.0' encoding='utf8'?>\n",
      "<CDCS_Python_Course_Series><course name=\"Analyzing Structured Data\">Pandas, ElementTree</course><course name=\"Analyzing Unstructured Data\">Natural Language Toolkit</course><course name=\"Network Analysis and Data Visualization\">NetworkX, Matplotlib, Altair, Seaborn</course></CDCS_Python_Course_Series>\n"
     ]
    }
   ],
   "source": [
    "# Approach from last class:\n",
    "print(ET.tostring(root, encoding='utf8').decode('utf8'))"
   ]
  },
  {
   "cell_type": "code",
   "execution_count": 9,
   "metadata": {},
   "outputs": [],
   "source": [
    "# Alternative approach using Python's minidom module:\n",
    "def readable(elem):\n",
    "    raw = ET.tostring(elem, 'utf-8')\n",
    "    minidom_parsed = minidom.parseString(raw)\n",
    "    return minidom_parsed.toprettyxml(indent=\"    \")"
   ]
  },
  {
   "cell_type": "code",
   "execution_count": 10,
   "metadata": {
    "scrolled": true
   },
   "outputs": [
    {
     "name": "stdout",
     "output_type": "stream",
     "text": [
      "<?xml version=\"1.0\" ?>\n",
      "<root>\n",
      "    <!--Example created for CDCS Python Course 1-->\n",
      "    <child>\n",
      "        Analyzing Structured Data\n",
      "        <grandchild week=\"1\">\n",
      "            Pandas\n",
      "            <greatgrandchild>CSV</greatgrandchild>\n",
      "        </grandchild>\n",
      "        <grandchild week=\"2\">\n",
      "            ElementTree\n",
      "            <greatgrandchild>XML</greatgrandchild>\n",
      "        </grandchild>\n",
      "    </child>\n",
      "</root>\n",
      "\n"
     ]
    }
   ],
   "source": [
    "print(readable(root))"
   ]
  },
  {
   "cell_type": "markdown",
   "metadata": {},
   "source": [
    "That looks much better!  Now we also get the XML document type declaration in the first line."
   ]
  },
  {
   "cell_type": "markdown",
   "metadata": {},
   "source": [
    "### 2. Build XML data from lists"
   ]
  },
  {
   "cell_type": "code",
   "execution_count": 97,
   "metadata": {},
   "outputs": [],
   "source": [
    "courses = [\"Analyzing Structured Data\", \"Analyzing Unstructured Data\", \"Network Analysis and Data Visualization\"]\n",
    "libs = [\"Pandas, ElementTree\", \"Natural Language Toolkit\", \"NetworkX, Matplotlib, Altair, Seaborn\"]"
   ]
  },
  {
   "cell_type": "code",
   "execution_count": 98,
   "metadata": {},
   "outputs": [
    {
     "name": "stdout",
     "output_type": "stream",
     "text": [
      "[<Element 'course' at 0x7f7a39493ad0>, <Element 'course' at 0x7f7a39507710>, <Element 'course' at 0x7f7a39507170>]\n"
     ]
    }
   ],
   "source": [
    "root = ET.Element('CDCS_Python_Course_Series')\n",
    "children = [ET.Element('course', name=c) for c in courses]\n",
    "print(children)"
   ]
  },
  {
   "cell_type": "code",
   "execution_count": 99,
   "metadata": {},
   "outputs": [],
   "source": [
    "root.extend(children)"
   ]
  },
  {
   "cell_type": "code",
   "execution_count": 100,
   "metadata": {},
   "outputs": [
    {
     "name": "stdout",
     "output_type": "stream",
     "text": [
      "b'<CDCS_Python_Course_Series><course name=\"Analyzing Structured Data\" /><course name=\"Analyzing Unstructured Data\" /><course name=\"Network Analysis and Data Visualization\" /></CDCS_Python_Course_Series>'\n"
     ]
    }
   ],
   "source": [
    "print(ET.tostring(root))"
   ]
  },
  {
   "cell_type": "code",
   "execution_count": 101,
   "metadata": {},
   "outputs": [
    {
     "name": "stdout",
     "output_type": "stream",
     "text": [
      "<?xml version=\"1.0\" ?>\n",
      "<CDCS_Python_Course_Series>\n",
      "    <course name=\"Analyzing Structured Data\"/>\n",
      "    <course name=\"Analyzing Unstructured Data\"/>\n",
      "    <course name=\"Network Analysis and Data Visualization\"/>\n",
      "</CDCS_Python_Course_Series>\n",
      "\n"
     ]
    }
   ],
   "source": [
    "print(readable(root))"
   ]
  },
  {
   "cell_type": "code",
   "execution_count": 102,
   "metadata": {
    "scrolled": true
   },
   "outputs": [
    {
     "name": "stdout",
     "output_type": "stream",
     "text": [
      "<?xml version=\"1.0\" ?>\n",
      "<CDCS_Python_Course_Series>\n",
      "    <course name=\"Analyzing Structured Data\">Pandas, ElementTree</course>\n",
      "    <course name=\"Analyzing Unstructured Data\">Natural Language Toolkit</course>\n",
      "    <course name=\"Network Analysis and Data Visualization\">NetworkX, Matplotlib, Altair, Seaborn</course>\n",
      "</CDCS_Python_Course_Series>\n",
      "\n"
     ]
    }
   ],
   "source": [
    "i = 0\n",
    "for child in root.iter('course'):\n",
    "    child.text = libs[i]\n",
    "    i += 1\n",
    "print(readable(root))"
   ]
  },
  {
   "cell_type": "markdown",
   "metadata": {},
   "source": [
    "### 3. Modfy existing elements in your XML data\n",
    "The XML above is **well-formed** but let's try restructuring the data it holds so it's more extensible:"
   ]
  },
  {
   "cell_type": "code",
   "execution_count": 103,
   "metadata": {},
   "outputs": [
    {
     "name": "stdout",
     "output_type": "stream",
     "text": [
      "<?xml version=\"1.0\" ?>\n",
      "<CDCS_Python_Course_Series>\n",
      "    <course number=\"1\">\n",
      "        Analyzing Structured Data\n",
      "        <library>Pandas</library>\n",
      "        <library>ElementTree</library>\n",
      "    </course>\n",
      "    <course number=\"2\">\n",
      "        Analyzing Unstructured Data\n",
      "        <library>Natural Language Toolkit</library>\n",
      "    </course>\n",
      "    <course number=\"3\">\n",
      "        Network Analysis and Data Visualization\n",
      "        <library>NetworkX</library>\n",
      "        <library>Matplotlib</library>\n",
      "        <library>Altair</library>\n",
      "        <library>Seaborn</library>\n",
      "    </course>\n",
      "</CDCS_Python_Course_Series>\n",
      "\n"
     ]
    }
   ],
   "source": [
    "# courses = [\"Analyzing Structured Data\", \"Analyzing Unstructured Data\", \"Network Analysis and Data Visualization\"]\n",
    "libs = [[\"Pandas\", \"ElementTree\"], [\"Natural Language Toolkit\"], [\"NetworkX\", \"Matplotlib\", \"Altair\", \"Seaborn\"]]\n",
    "\n",
    "i = 0\n",
    "for child in root.iter('course'):\n",
    "    child.text = courses[i]\n",
    "    # Remember, attributes must be surrounded by quotation marks!\n",
    "    # Otherwise, an error will be thrown because the XML won't be well-formed.\n",
    "    child.attrib = {'number' : str(i+1)}\n",
    "    for library in libs[i]:\n",
    "        descendant = ET.SubElement(child, 'library')\n",
    "        descendant.text = library\n",
    "    i += 1\n",
    "print(readable(root))"
   ]
  },
  {
   "cell_type": "markdown",
   "metadata": {},
   "source": [
    "What other information might someone want to know about the CDCS Python Course Series?  How about the types of data that can be analyzed with the Python libraries covered in each course?"
   ]
  },
  {
   "cell_type": "code",
   "execution_count": 104,
   "metadata": {},
   "outputs": [
    {
     "name": "stdout",
     "output_type": "stream",
     "text": [
      "<Element 'library' at 0x7f7a394a8170>\n"
     ]
    }
   ],
   "source": [
    "lib_pd = root.find(\"./course/[library='Pandas']/\")\n",
    "print(lib_pd)"
   ]
  },
  {
   "cell_type": "code",
   "execution_count": 105,
   "metadata": {
    "scrolled": true
   },
   "outputs": [
    {
     "name": "stdout",
     "output_type": "stream",
     "text": [
      "<?xml version=\"1.0\" ?>\n",
      "<CDCS_Python_Course_Series>\n",
      "    <course number=\"1\">\n",
      "        Analyzing Structured Data\n",
      "        <library>\n",
      "            Pandas\n",
      "            <data name=\"CSV\"/>\n",
      "            <data name=\"TSV\"/>\n",
      "        </library>\n",
      "        <library>ElementTree</library>\n",
      "    </course>\n",
      "    <course number=\"2\">\n",
      "        Analyzing Unstructured Data\n",
      "        <library>Natural Language Toolkit</library>\n",
      "    </course>\n",
      "    <course number=\"3\">\n",
      "        Network Analysis and Data Visualization\n",
      "        <library>NetworkX</library>\n",
      "        <library>Matplotlib</library>\n",
      "        <library>Altair</library>\n",
      "        <library>Seaborn</library>\n",
      "    </course>\n",
      "</CDCS_Python_Course_Series>\n",
      "\n"
     ]
    }
   ],
   "source": [
    "data_types = [\"CSV\", \"TSV\"]\n",
    "lib_pd_children = [ET.Element('data', name=d) for d in data_types]\n",
    "lib_pd.extend(lib_pd_children)\n",
    "print(readable(root))"
   ]
  },
  {
   "cell_type": "markdown",
   "metadata": {},
   "source": [
    "### 4. Export your XML data"
   ]
  },
  {
   "cell_type": "code",
   "execution_count": 106,
   "metadata": {},
   "outputs": [],
   "source": [
    "tree = ET.ElementTree(root)\n",
    "tree.write(\"python_courses.xml\")"
   ]
  },
  {
   "cell_type": "markdown",
   "metadata": {},
   "source": [
    "*Note: Options for writing XML to a file are summarized [here](https://stackoverflow.com/questions/3605680/creating-a-simple-xml-file-using-python)*"
   ]
  }
 ],
 "metadata": {
  "kernelspec": {
   "display_name": "Python 3",
   "language": "python",
   "name": "python3"
  },
  "language_info": {
   "codemirror_mode": {
    "name": "ipython",
    "version": 3
   },
   "file_extension": ".py",
   "mimetype": "text/x-python",
   "name": "python",
   "nbconvert_exporter": "python",
   "pygments_lexer": "ipython3",
   "version": "3.7.6"
  }
 },
 "nbformat": 4,
 "nbformat_minor": 4
}
